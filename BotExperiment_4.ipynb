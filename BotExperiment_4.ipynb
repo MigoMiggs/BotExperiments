{
 "cells": [
  {
   "cell_type": "markdown",
   "id": "f3e06aec-64fe-4ab9-9307-54ffdd5675ba",
   "metadata": {},
   "source": [
    "# Experiment 4 - Scripted yet natural agent \n",
    "Objective: Develop an AI agent that adheres to a script but also maintains natural conversational tones."
   ]
  },
  {
   "cell_type": "markdown",
   "id": "1be307a0-4662-48f2-93db-88dce017d006",
   "metadata": {},
   "source": [
    "## Setup, imports, logging, keys"
   ]
  },
  {
   "cell_type": "code",
   "execution_count": null,
   "id": "233fa216-229f-4944-afa1-ffeed24aa57c",
   "metadata": {},
   "outputs": [],
   "source": [
    "import os\n",
    "from dotenv import load_dotenv, find_dotenv\n",
    "import openai\n"
   ]
  },
  {
   "cell_type": "code",
   "execution_count": null,
   "id": "4353a07f-b1ba-43ef-8c84-49d5501d997c",
   "metadata": {},
   "outputs": [],
   "source": [
    "_ = load_dotenv(find_dotenv()) # read local .env file\n",
    "openai.api_key  = os.environ['OPENAI_API_KEY']"
   ]
  },
  {
   "cell_type": "markdown",
   "id": "59b495ca-2ab5-4b2c-b104-fc51c1f58bd2",
   "metadata": {},
   "source": [
    "# Step 1 - Setup helper functions\n",
    "\n",
    "This first function will be a completion given a set of messages like the following, which shows how you can send entire context to gpt which will allow it to respond very differently than if it did not have context. The following roles are available: user, assisstamt and system. \n",
    "\n",
    "    messages =  [  \n",
    "    {'role':'system', 'content':'You are friendly chatbot.'},\n",
    "    {'role':'user', 'content':'Hi, my name is Isa'},\n",
    "    {'role':'assistant', 'content': \"Hi Isa! It's nice to meet you. \\\n",
    "    Is there anything I can help you with today?\"},\n",
    "    {'role':'user', 'content':'Yes, you can remind me, What is my name?'}  ]\n",
    "    response = get_completion_from_messages(messages, temperature=1)\n",
    "    print(response)"
   ]
  },
  {
   "cell_type": "code",
   "execution_count": null,
   "id": "5ce00404-40df-4f1e-9152-7c7a2f6ab607",
   "metadata": {},
   "outputs": [],
   "source": [
    "\n",
    "def get_completion_from_messages(messages, model=\"gpt-3.5-turbo\", temperature=0):\n",
    "    response = openai.ChatCompletion.create(\n",
    "        model=model,\n",
    "        messages=messages,\n",
    "        temperature=temperature, # this is the degree of randomness of the model's output\n",
    "    )\n",
    "#     print(str(response.choices[0].message))\n",
    "    return response.choices[0].message[\"content\"]"
   ]
  },
  {
   "cell_type": "markdown",
   "id": "44f48d83-bc6c-4f72-b2bd-fb91d1a805f3",
   "metadata": {},
   "source": [
    "The following function will continue to get context from the chat text field that will be setup further down:"
   ]
  },
  {
   "cell_type": "code",
   "execution_count": null,
   "id": "28d0fe63-5b38-49ba-a01b-49ae209e80f8",
   "metadata": {},
   "outputs": [],
   "source": [
    "def collect_messages(_):\n",
    "    prompt = inp.value_input\n",
    "    inp.value = ''\n",
    "    context.append({'role':'user', 'content':f\"{prompt}\"})\n",
    "    response = get_completion_from_messages(context) \n",
    "    context.append({'role':'assistant', 'content':f\"{response}\"})\n",
    "    panels.append(\n",
    "        pn.Row('User:', pn.pane.Markdown(prompt, width=600)))\n",
    "    panels.append(\n",
    "        pn.Row('Assistant:', pn.pane.Markdown(response, width=600, styles={'background-color': '#F6F6F6'})))\n",
    " \n",
    "    return pn.Column(*panels)\n"
   ]
  },
  {
   "cell_type": "markdown",
   "id": "33309911-5691-46a3-813c-cf655774b053",
   "metadata": {},
   "source": [
    "# Step 2 - Show how the messages technique works\n",
    "\n",
    "Below we see the multiple messages as context example in action\n",
    "\n"
   ]
  },
  {
   "cell_type": "code",
   "execution_count": null,
   "id": "e69046da-ad7b-485e-9822-b4a47d133b1e",
   "metadata": {},
   "outputs": [],
   "source": [
    "messages =  [  \n",
    "{'role':'system', 'content':'You are friendly chatbot.'},\n",
    "{'role':'user', 'content':'Hi, my name is Miguel'},\n",
    "{'role':'assistant', 'content': \"Hi Miguel! It's nice to meet you. \\\n",
    "Is there anything I can help you with today?\"},\n",
    "{'role':'user', 'content':'Yes, you can remind me, What is my name?'}  ]\n",
    "response = get_completion_from_messages(messages, temperature=1)\n",
    "print(response)"
   ]
  },
  {
   "cell_type": "markdown",
   "id": "c1ccf1e4-4725-4f7d-a14c-648f23bef649",
   "metadata": {},
   "source": [
    "# Step 3 - Mini Chat bot with POC system prompt\n",
    "\n",
    "Here we will simulate a mini bot with a fake system prompt that guides the user through a fake process of claims submission. "
   ]
  },
  {
   "cell_type": "code",
   "execution_count": null,
   "id": "59a97407-f77d-4b0b-8008-f44095c839a6",
   "metadata": {},
   "outputs": [],
   "source": [
    "import panel as pn  # GUI\n",
    "pn.extension()\n",
    "\n",
    "panels = [] # collect display \n",
    "\n",
    "context = [ {'role':'system', 'content':\"\"\"\n",
    "You are OneHealthBot, a conversational bot that guides the customer through \\\n",
    "the health insurance claims submission process.  On the first interaction \\\n",
    "after you greet the customer you will describe what the process will be like \\\n",
    "that you are going to walk the customer though. Enlist step by step and make it \\\n",
    "very concise and brief but explain all the steps.\n",
    "\n",
    "This is the process, and the information you need to gather from user. \n",
    "\n",
    "1. Get the date of the procedure\n",
    "2. Get the  type of procedure\n",
    "3. Name of the person in claim\n",
    "\n",
    "Do not let the conversation diverge, you need to wait until you have all \\\n",
    "those 3 pieces of information. If the conversation starts diverging, answer the \\\n",
    "question lightly, but quickly guide the user back in a very polite way to the next step. \n",
    "\n",
    "When you do, summarize the information. Ask the user to confirm \\\n",
    "if they want to submit the claim.\n",
    "\n",
    "Submit the claim, thank the customer and ask the customer what else they \\\n",
    "need help with\n",
    "\n",
    "\"\"\"} ]  # accumulate messages\n",
    "\n",
    "inp = pn.widgets.TextInput(value=\"Hi\", placeholder='Enter text here…')\n",
    "button_conversation = pn.widgets.Button(name=\"Chat!\")\n",
    "\n",
    "interactive_conversation = pn.bind(collect_messages, button_conversation)\n",
    "\n",
    "dashboard = pn.Column(\n",
    "    inp,\n",
    "    pn.Row(button_conversation),\n",
    "    pn.panel(interactive_conversation, loading_indicator=True, height=300),\n",
    ")\n",
    "\n",
    "dashboard"
   ]
  },
  {
   "cell_type": "markdown",
   "id": "f54a110f-3ae4-4dfd-828a-f717cee07858",
   "metadata": {},
   "source": [
    "# Step 4 - Extract JSON\n",
    "\n",
    "The following example shows how we can extract the JSON at the very end of the conversation. One cna imagine how this can turn into functions. "
   ]
  },
  {
   "cell_type": "code",
   "execution_count": 20,
   "id": "c44315c9-9b78-401d-a3ad-04e7b16917d8",
   "metadata": {},
   "outputs": [
    {
     "name": "stdout",
     "output_type": "stream",
     "text": [
      "Certainly! Here is a JSON summary of the claim submission information:\n",
      "\n",
      "{\n",
      "  \"procedure-date\": \"12/23/2022\",\n",
      "  \"claimant-name\": \"Miguel Alvarado\",\n",
      "  \"procedure-type\": \"Back surgery\"\n",
      "}\n",
      "\n",
      "Please let me know if there's anything else I can help you with!\n"
     ]
    }
   ],
   "source": [
    "messages =  context.copy()\n",
    "messages.append(\n",
    "{'role':'system', 'content':'create a json summary of claim submission information.\\\n",
    " The fields should be 1) procedure-date 2) claimant-name 3) procedure-type'},    \n",
    ")\n",
    " #The fields should be 1) pizza, price 2) list of toppings 3) list of drinks, include size include price  4) list of sides include size include price, 5)total price '},    \n",
    "\n",
    "response = get_completion_from_messages(messages, temperature=0)\n",
    "print(response)"
   ]
  },
  {
   "cell_type": "code",
   "execution_count": null,
   "id": "66b0d8f2-825d-49f4-9bca-622d3997a62b",
   "metadata": {},
   "outputs": [],
   "source": []
  }
 ],
 "metadata": {
  "kernelspec": {
   "display_name": "Python 3 (ipykernel)",
   "language": "python",
   "name": "python3"
  },
  "language_info": {
   "codemirror_mode": {
    "name": "ipython",
    "version": 3
   },
   "file_extension": ".py",
   "mimetype": "text/x-python",
   "name": "python",
   "nbconvert_exporter": "python",
   "pygments_lexer": "ipython3",
   "version": "3.11.5"
  }
 },
 "nbformat": 4,
 "nbformat_minor": 5
}
