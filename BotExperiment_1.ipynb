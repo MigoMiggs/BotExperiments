{
 "cells": [
  {
   "cell_type": "markdown",
   "id": "f72a1efb-0fe4-4680-b625-e3894971fdad",
   "metadata": {},
   "source": [
    "# Experiment 1 - Zero-shot intent inference\n",
    "Infer intent using zero-shot by providing the intent questions in the system prompt\n",
    "\n",
    "## Setup, imports, logging, keys"
   ]
  },
  {
   "cell_type": "code",
   "execution_count": 49,
   "id": "c481b4e4-1e32-4d70-bf5f-b6fbfae9b33e",
   "metadata": {},
   "outputs": [],
   "source": [
    "import os\n",
    "from dotenv import load_dotenv, find_dotenv\n",
    "import openai\n",
    "import pandas as pd\n",
    "import ipywidgets as widgets\n",
    "import time\n",
    "import logging\n",
    "\n",
    "import logging\n",
    "logger = logging.getLogger()\n",
    "fhandler = logging.FileHandler(filename='mylog.log', mode='a')\n",
    "formatter = logging.Formatter('%(asctime)s - %(name)s - %(levelname)s - %(message)s')\n",
    "fhandler.setFormatter(formatter)\n",
    "logger.addHandler(fhandler)\n",
    "logger.setLevel(logging.DEBUG)"
   ]
  },
  {
   "cell_type": "code",
   "execution_count": 50,
   "id": "1ffa70a4-48a8-4c06-976a-c904904cf168",
   "metadata": {},
   "outputs": [],
   "source": [
    "\n",
    "_ = load_dotenv(find_dotenv()) # read local .env file\n",
    "openai.api_key  = os.environ['OPENAI_API_KEY']"
   ]
  },
  {
   "cell_type": "code",
   "execution_count": null,
   "id": "052d4f4f-e9ae-4b7e-8c7e-3c5332f32c7b",
   "metadata": {},
   "outputs": [],
   "source": []
  },
  {
   "cell_type": "markdown",
   "id": "a36aa6f1-d0b0-4810-9e31-c52add60d96b",
   "metadata": {},
   "source": [
    "## Step 1 - System prompt to infer intent question \n",
    "We have n number of questions, each represents an intent. Our system prompt instructs gpt how to take an original user question and attempt to inferthe intent with a zero shot approach. The prompt also tells gpt what to do if it does not know how to do the infrenece. It tries to guardrail the prompt a bit so that gpt does not get creative and add things to the response. \n"
   ]
  },
  {
   "cell_type": "code",
   "execution_count": 51,
   "id": "ab1fa19f-3d27-4952-85d4-6cc74eb81ec2",
   "metadata": {},
   "outputs": [],
   "source": [
    "system_prompt =  \"\"\"\n",
    "You are a helpful assistant for the healthcare industry, you understand the administrative \\\n",
    "aspects of healthcare and also have a clinical background. You understand \\\n",
    "pharmacy terminology and prescription dosages. \n",
    "\n",
    "You will infer the intent question from the user prompt, use the following list of intent questions below \\\n",
    "as reference. Your task is to repeat back the exact same inferred intent question as written originally. \\\n",
    "If you can't, then \\\n",
    "respond \"please reframe your question.\" Do not take parts of the user message and add to your response. Only \\\n",
    "provide one answer, do not combine two. \n",
    "-------\n",
    "Are there limitations that apply to my drug, such as prior authorization?\n",
    "Can I sign up for paperless delivery of my health plan documents and communications?\n",
    "How can I cancel my current insurance plan?\n",
    "How can I find a network PCP, specialist, clinic or hospital?\n",
    "How can I replace a lost card or order additional insurance cards?\n",
    "How do I file a complaint?\n",
    "How do I know if a generic version of the medication is available?\n",
    "How do I request pre-authorization?\n",
    "How do I set up a virtual visit (telehealth visit)?\n",
    "How much can I earn for reward?\n",
    "I am a new member and just received my member ID card. What should I do now?\n",
    "I don't want to talk\n",
    "I need to search for my doctors in another language. How can I do that?\n",
    "I want to appeal a coverage decision that was denied. How do I do that?\n",
    "I want to ask for coverage for a medical service or prescription drug. How do I request a coverage decision?\n",
    "I'd like to speak to a licensed agent\n",
    "What are the rewards, and how can I use it?\n",
    "What do I need to do to earn reward?\n",
    "What extra benefits does my plan offer?\n",
    "What if I need help managing my medications?\n",
    "What is digital health concierge?\n",
    "What is member onboarding process?\n",
    "What is this about?\n",
    "What services are covered by my health plan and what I am responsible for paying?\n",
    "What's my plan coverage for ambulance?\n",
    "What's my plan coverage for ambulatory surgical center?\n",
    "What's my plan coverage for annual physical?\n",
    "What's my plan coverage for blood glucose test strips?\n",
    "What's my plan coverage for blood test?\n",
    "What's my plan coverage for cancer screening?\n",
    "What's my plan coverage for cardiologist?\n",
    "What's my plan coverage for chiropractic care?\n",
    "What's my plan coverage for CT?\n",
    "What's my plan coverage for dental cleaning?\n",
    "What's my plan coverage for dental crowns?\n",
    "What's my plan coverage for dental service?\n",
    "What's my plan coverage for dentures and dental implants?\n",
    "What's my plan coverage for depression screenings?\n",
    "What's my plan coverage for diabetic monitoring supplies?\n",
    "What's my plan coverage for diagnostic radiology?\n",
    "What's my plan coverage for durable medical equipment?\n",
    "What's my plan coverage for emergency & urgently needed care worldwide?\n",
    "What's my plan coverage for emergency care in the united states?\n",
    "What's my plan coverage for eyewear coverage?\n",
    "What's my plan coverage for fitness?\n",
    "What's my plan coverage for glucose monitors?\n",
    "What's my plan coverage for ground ambulance?\n",
    "What's my plan coverage for hearing?\n",
    "What's my plan coverage for in and out of network doctor visits?\n",
    "What's my plan coverage for injectible?\n",
    "What's my plan coverage for inpatient admission?\n",
    "What's my plan coverage for inpatient surgery?\n",
    "What's my plan coverage for lab services?\n",
    "What's my plan coverage for meals?\n",
    "What's my plan coverage for medicare part B drugs?\n",
    "What's my plan coverage for my drug?\n",
    "What's my plan coverage for nebulizers?\n",
    "What's my plan coverage for nurse line?\n",
    "What's my plan coverage for oral exam?\n",
    "What's my plan coverage for outpatient service?\n",
    "What's my plan coverage for outpatient X-ray?\n",
    "What's my plan coverage for over the counter drug?\n",
    "What's my plan coverage for preventive benefits?\n",
    "What's my plan coverage for primary care physician?\n",
    "What's my plan coverage for prosthetics (e.g. braces, artificial limbs)?\n",
    "What's my plan coverage for root canals?\n",
    "What's my plan coverage for specialist?\n",
    "What's my plan coverage for telehealth?\n",
    "What's my plan coverage for transplants?\n",
    "What's my plan coverage for urgently needed care in the united states?\n",
    "What's my plan coverage for vaccines and flu shots?\n",
    "What's my plan coverage for vision?\n",
    "What's my plan coverage for wheelchair?\n",
    "What's my plan coverage when I'm outside of the plan's service area?\n",
    "What's my plan deductible?\n",
    "What's my plan premium?\n",
    "What's my plan's maximum out of pocket?\n",
    "\"\"\""
   ]
  },
  {
   "cell_type": "markdown",
   "id": "1caf2981-9542-4ee0-8d6e-51df4493df05",
   "metadata": {},
   "source": [
    "## Step 2 - Try the prompt with a couple examples\n",
    "Try this user prompt for which we expect to be able to classify as the following intent question: \n",
    "\n",
    "What's my plan coverage for over the counter drug?"
   ]
  },
  {
   "cell_type": "code",
   "execution_count": 52,
   "id": "17166a0f-7f40-4120-81d5-ad52e1d07375",
   "metadata": {},
   "outputs": [],
   "source": [
    "user_prompt = \"Can I get OTC nicotine patches, antacids, and cold medicine with my plan's OTC allowance?\"\n"
   ]
  },
  {
   "cell_type": "markdown",
   "id": "b7a9b7ae-3075-402f-ba5e-fe1afd09cf9e",
   "metadata": {},
   "source": [
    "Let's add a function that will get a response from gpt given the promots and can also do exponential backoff if we get a timeout, that will come in handy for when we run multiple requests from the csv below. "
   ]
  },
  {
   "cell_type": "code",
   "execution_count": 57,
   "id": "8be90f6c-0404-49a7-a9fd-2db91d649974",
   "metadata": {},
   "outputs": [],
   "source": [
    "def get_completion_from_messages(messages, \n",
    "                                 model=\"gpt-3.5-turbo\", \n",
    "                                 temperature=0, \n",
    "                                 top_p = 0,\n",
    "                                 max_tokens=500):\n",
    "    retry_count = 0\n",
    "    max_retries = 4\n",
    "    wait_time = 7  # Initial wait time in seconds\n",
    "\n",
    "    while retry_count < max_retries:\n",
    "        try:\n",
    "\n",
    "            user_content = next((message['content'] for message in messages if message['role'] == 'user'), None)\n",
    "\n",
    "            logger.debug(f\"Trye the following message: {user_content}\")\n",
    "            response = openai.ChatCompletion.create(\n",
    "                model=model,\n",
    "                messages=messages,\n",
    "                temperature=temperature,\n",
    "                max_tokens=max_tokens,\n",
    "            )\n",
    "            \n",
    "            # print(completion['usage']['total_tokens'])\n",
    "            return response.choices[0].message[\"content\"]\n",
    "\n",
    "        except Exception as e:\n",
    "            print(f\"An error occurred: {str(e)[:30]}\")\n",
    "            print(f\"Retrying in {wait_time} seconds...\")\n",
    "\n",
    "            logger.debug(f\"An error occurred: {str(e)[:30]}\")\n",
    "            logger.debug(f\"Retrying in {wait_time} seconds...\")\n",
    "            \n",
    "            time.sleep(wait_time)\n",
    "            retry_count += 1\n",
    "            wait_time *= 3  # Exponential backoff: double the wait time for each retry\n",
    "\n",
    "    print(\"Exceeded maximum number of retries. Aborting.\")\n",
    "    return None\n",
    "\n"
   ]
  },
  {
   "cell_type": "markdown",
   "id": "e691c218-5c9a-4138-961b-41a40b9e9b28",
   "metadata": {},
   "source": [
    "Let's combine the system and user prompt and try to get a response"
   ]
  },
  {
   "cell_type": "code",
   "execution_count": 58,
   "id": "8e6225dc-f7f6-4086-aff0-716fe15e9f7b",
   "metadata": {},
   "outputs": [
    {
     "name": "stdout",
     "output_type": "stream",
     "text": [
      "What's my plan coverage for over the counter drug?\n"
     ]
    }
   ],
   "source": [
    "messages =  [  \n",
    "{'role':'system', 'content': system_prompt},    \n",
    "{'role':'user', 'content': user_prompt},  \n",
    "] \n",
    "response = get_completion_from_messages(messages)\n",
    "print(response)"
   ]
  },
  {
   "cell_type": "markdown",
   "id": "97f5bf2a-cd1c-450d-b177-45c8de1cac29",
   "metadata": {},
   "source": [
    "---------\n",
    "Let's try another question from the same category"
   ]
  },
  {
   "cell_type": "code",
   "execution_count": 56,
   "id": "9426b81f-c274-46d8-9dda-af7c84a8a72b",
   "metadata": {},
   "outputs": [
    {
     "name": "stdout",
     "output_type": "stream",
     "text": [
      "What's my plan coverage for over the counter drug?\n"
     ]
    }
   ],
   "source": [
    "user_prompt = \"I'm interested in utilizing my OTC benefit - can I use it for things like cough drops, aspirin, and antihistamines?\"\n",
    "\n",
    "messages =  [  \n",
    "{'role':'system', 'content': system_prompt},    \n",
    "{'role':'user', 'content': user_prompt},  \n",
    "] \n",
    "response = get_completion_from_messages(messages)\n",
    "print(response)\n"
   ]
  },
  {
   "cell_type": "markdown",
   "id": "f1b0ab0a-e8ae-4a3e-a35d-f466860e2896",
   "metadata": {},
   "source": [
    "---\n",
    "\n",
    "## Step 3 - Test system prompt across all examples\n",
    "\n",
    "We have a file named **bot_question_intent_map.csv**, it has a list of example user questions with its respective categorical intent question. We will load the whole file and for each pair see what intent question our system prompt predicts.\n",
    "\n"
   ]
  },
  {
   "cell_type": "code",
   "execution_count": 43,
   "id": "5421f7fa-bab1-4207-bbdd-3f56ae659699",
   "metadata": {},
   "outputs": [],
   "source": [
    "df = pd.read_csv('bot_question_intent_map.csv')"
   ]
  },
  {
   "cell_type": "code",
   "execution_count": 44,
   "id": "a5935ebd-d246-4c5d-8854-272a737b7323",
   "metadata": {},
   "outputs": [],
   "source": [
    "total_rows = len(df)"
   ]
  },
  {
   "cell_type": "code",
   "execution_count": 45,
   "id": "bfe7dc10-22e7-40b5-8713-5f83d9787ff3",
   "metadata": {},
   "outputs": [],
   "source": [
    "def inferred_intent(system, question, expected, total, current):\n",
    "    messages =  [  \n",
    "    {'role':'system', 'content': system},    \n",
    "    {'role':'user', 'content': question},  \n",
    "    ] \n",
    "\n",
    "\n",
    "    response = get_completion_from_messages(messages)\n",
    "    \n",
    "    return response"
   ]
  },
  {
   "cell_type": "code",
   "execution_count": 46,
   "id": "1013b5f1-dba0-48b5-9ae7-956a91e9270b",
   "metadata": {},
   "outputs": [
    {
     "name": "stdout",
     "output_type": "stream",
     "text": [
      "An error occurred: Request timed out: HTTPSConnec\n",
      "Retrying in 7 seconds...\n",
      "An error occurred: Request timed out: HTTPSConnec\n",
      "Retrying in 7 seconds...\n"
     ]
    }
   ],
   "source": [
    "df['inferred'] = df.apply(lambda row: inferred_intent(system_prompt, row['question'], row['intent question'], total_rows, row.index), axis=1)\n"
   ]
  },
  {
   "cell_type": "code",
   "execution_count": 47,
   "id": "ddcc9138-6c54-417b-8884-aaa6b820941b",
   "metadata": {},
   "outputs": [],
   "source": [
    "df.to_csv('bot_inferred_intent_gpt.csv', index=False)"
   ]
  }
 ],
 "metadata": {
  "kernelspec": {
   "display_name": "Python 3 (ipykernel)",
   "language": "python",
   "name": "python3"
  },
  "language_info": {
   "codemirror_mode": {
    "name": "ipython",
    "version": 3
   },
   "file_extension": ".py",
   "mimetype": "text/x-python",
   "name": "python",
   "nbconvert_exporter": "python",
   "pygments_lexer": "ipython3",
   "version": "3.11.5"
  }
 },
 "nbformat": 4,
 "nbformat_minor": 5
}
