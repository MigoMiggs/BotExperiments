{
 "cells": [
  {
   "cell_type": "markdown",
   "id": "f3a1d2f6-a966-4c83-ba23-5fd3d8432c2e",
   "metadata": {},
   "source": [
    "# Experiment 3 - Call a scheduling function\n",
    "\n",
    "Objective: Demonstrate how to use OpenAI API functions to call a scheduling API."
   ]
  },
  {
   "cell_type": "markdown",
   "id": "9134443a-aabf-46b3-9a15-40e79eb60347",
   "metadata": {},
   "source": [
    "## Setup, imports, logging, keys"
   ]
  },
  {
   "cell_type": "code",
   "execution_count": null,
   "id": "aeb97918-65ae-46d8-bb7d-a48139d2b00d",
   "metadata": {},
   "outputs": [],
   "source": [
    "import os\n",
    "from dotenv import load_dotenv, find_dotenv\n",
    "import openai\n",
    "from datetime import datetime, timedelta"
   ]
  },
  {
   "cell_type": "code",
   "execution_count": null,
   "id": "0dde350b-07af-446c-bbb6-2432490fa608",
   "metadata": {},
   "outputs": [],
   "source": [
    "_ = load_dotenv(find_dotenv()) # read local .env file\n",
    "openai.api_key  = os.environ['OPENAI_API_KEY']"
   ]
  },
  {
   "cell_type": "markdown",
   "id": "39122074-3ad2-4b5f-9537-a56d3c2b4080",
   "metadata": {},
   "source": [
    "## Step 1 - Show the type of answer that you would get without functions\n",
    "\n",
    "If we just make a request asking to schedule an appointment, the LLM will say that it can't do that."
   ]
  },
  {
   "cell_type": "code",
   "execution_count": 28,
   "id": "ec9bfec9-b26b-40f9-9d2c-aeb3212c1ac7",
   "metadata": {},
   "outputs": [
    {
     "name": "stdout",
     "output_type": "stream",
     "text": [
      "I'm sorry, but I am an AI language model and cannot schedule appointments. However, if you need assistance or have any questions, I am here to help.\n"
     ]
    }
   ],
   "source": [
    "user_prompt = \"I would like to schedule an appintment with a customer \\\n",
    "service representative for October 22 2023 at 11:00am\"\n",
    "\n",
    "completion = openai.ChatCompletion.create(\n",
    "    model=\"gpt-3.5-turbo-0613\",\n",
    "    messages=[\n",
    "        {\n",
    "            \"role\": \"user\",\n",
    "            \"content\": \"I would like to schedule an appintment with a customer service representative?\",\n",
    "        },\n",
    "    ],\n",
    ")\n",
    "\n",
    "output = completion.choices[0].message.content\n",
    "print(output)"
   ]
  },
  {
   "cell_type": "markdown",
   "id": "e759ee3a-043f-48ec-a977-500d869b00ba",
   "metadata": {},
   "source": [
    "## Step 2 -- Let's add a function definition and ask the same question\n",
    "\n",
    "The response we get back wll be fundamentally different as you can see the message comes back without content but with a function_call element instead with the function name and its params."
   ]
  },
  {
   "cell_type": "code",
   "execution_count": 30,
   "id": "5c22ac24-6e53-4c73-8a49-ecb19f2863cb",
   "metadata": {},
   "outputs": [],
   "source": [
    "function_descriptions = [\n",
    "    {\n",
    "        \"name\": \"schedule_appointment\",\n",
    "        \"description\": \"Schedule a new appointment with customer service representative.\",\n",
    "        \"parameters\": {\n",
    "            \"type\": \"object\",\n",
    "            \"properties\": {\n",
    "                \"appointment_date\": {\n",
    "                    \"type\": \"string\",\n",
    "                    \"description\": \"The date to schedule the appointment on\",\n",
    "                },\n",
    "                \"appointment_time\": {\n",
    "                    \"type\": \"string\",\n",
    "                    \"description\": \"The desired time of the appointment.\",\n",
    "                },\n",
    "                \"appointment_type\": {\n",
    "                    \"type\": \"string\",\n",
    "                    \"enum\": [\"human-representative\", \"documentation-review\"],\n",
    "                    \"description\": \"The type of appointment being scheduled.\",\n",
    "                },\n",
    "            },\n",
    "            \"required\": [\"appointment_date\", \"appointment_type\"],\n",
    "        },\n",
    "    }\n",
    "]"
   ]
  },
  {
   "cell_type": "code",
   "execution_count": 31,
   "id": "6b65bd5d-f994-47c2-8ce3-7685c8f535ba",
   "metadata": {},
   "outputs": [
    {
     "name": "stdout",
     "output_type": "stream",
     "text": [
      "{\n",
      "  \"role\": \"assistant\",\n",
      "  \"content\": null,\n",
      "  \"function_call\": {\n",
      "    \"name\": \"schedule_appointment\",\n",
      "    \"arguments\": \"{\\n  \\\"appointment_date\\\": \\\"2023-10-22\\\",\\n  \\\"appointment_time\\\": \\\"11:00am\\\",\\n  \\\"appointment_type\\\": \\\"human-representative\\\"\\n}\"\n",
      "  }\n",
      "}\n"
     ]
    }
   ],
   "source": [
    "user_prompt = \"I would like to schedule an appintment with a customer \\\n",
    "service representative for October 22 2023 at 11:00am\"\n",
    "\n",
    "completion = openai.ChatCompletion.create(\n",
    "    model=\"gpt-3.5-turbo-0613\",\n",
    "    messages=[{\"role\": \"user\", \"content\": user_prompt}],\n",
    "    # Add function calling\n",
    "    functions=function_descriptions,\n",
    "    function_call=\"auto\",  # specify the function call\n",
    ")\n",
    "\n",
    "# It automatically fills the arguments with correct info based on the prompt\n",
    "# Note: the function does not exist yet\n",
    "\n",
    "output = completion.choices[0].message\n",
    "print(output)"
   ]
  },
  {
   "cell_type": "markdown",
   "id": "9229b4c3-cf88-4364-a625-a4f4daf2aa17",
   "metadata": {},
   "source": [
    "Below we actually define the function that will be called and we get the parameters from the function, and we manually call the function."
   ]
  },
  {
   "cell_type": "code",
   "execution_count": null,
   "id": "442e4754-dc56-4323-898a-9dbaf3e9d400",
   "metadata": {},
   "outputs": [],
   "source": [
    "def schedule_appointment(appointment_date, appointment_time, appointment_type):\n",
    "    \"\"\"Schedule an appointment to speak with a representative.\"\"\"\n",
    "\n",
    "    # Example output returned from an API or database\n",
    "    appointment_info = {\n",
    "        \"appointment_date\": appointment_date,\n",
    "        \"appointment_time\": appointment_time,\n",
    "        \"appointment_type\": appointment_type,\n",
    "        \"representative\": \"Miguel\"\n",
    "    }\n",
    "\n",
    "    return json.dumps(appointment_info)\n",
    "\n",
    "\n",
    "# Use the LLM output to manually call the function\n",
    "# The json.loads function converts the string to a Python object\n",
    "params = json.loads(output.function_call.arguments)\n",
    "type(params)\n",
    "print(params)\n",
    "\n"
   ]
  },
  {
   "cell_type": "code",
   "execution_count": null,
   "id": "0c56677d-e7fa-4b09-b7b2-24c1bba28e45",
   "metadata": {},
   "outputs": [],
   "source": [
    "# Call the function with arguments\n",
    "\n",
    "chosen_function = eval(output.function_call.name)\n",
    "appointment = chosen_function(**params)\n",
    "\n",
    "print(appointment)\n",
    "\n"
   ]
  },
  {
   "cell_type": "markdown",
   "id": "2d1a9534-d488-4313-8519-5a91118e9325",
   "metadata": {},
   "source": [
    "## Step 3 - LLM responds with function result\n",
    "\n",
    "Now that we have the output from the function, we can call the LLM to now come up with a nice english message with the response that contains the function result. "
   ]
  },
  {
   "cell_type": "code",
   "execution_count": 34,
   "id": "893bd297-c94f-440b-ba05-f3ff126a4cc7",
   "metadata": {},
   "outputs": [
    {
     "name": "stdout",
     "output_type": "stream",
     "text": [
      "Your appointment with a customer service representative has been scheduled for October 22, 2023, at 11:00 am. Please note that the representative assigned to your appointment is Miguel.\n"
     ]
    }
   ],
   "source": [
    "# --------------------------------------------------------------\n",
    "# Add function result to the prompt for a final answer\n",
    "# --------------------------------------------------------------\n",
    "\n",
    "# The key is to add the function output back to the messages with role: function\n",
    "second_completion = openai.ChatCompletion.create(\n",
    "    model=\"gpt-3.5-turbo-0613\",\n",
    "    messages=[\n",
    "        {\"role\": \"user\", \"content\": user_prompt},\n",
    "        {\"role\": \"function\", \"name\": output.function_call.name, \"content\": appointment},\n",
    "    ],\n",
    "    functions=function_descriptions,\n",
    ")\n",
    "response = second_completion.choices[0].message.content\n",
    "print(response)"
   ]
  },
  {
   "cell_type": "code",
   "execution_count": null,
   "id": "e5e97083-f084-4b05-b98b-aec191879fe2",
   "metadata": {},
   "outputs": [],
   "source": []
  }
 ],
 "metadata": {
  "kernelspec": {
   "display_name": "Python 3 (ipykernel)",
   "language": "python",
   "name": "python3"
  },
  "language_info": {
   "codemirror_mode": {
    "name": "ipython",
    "version": 3
   },
   "file_extension": ".py",
   "mimetype": "text/x-python",
   "name": "python",
   "nbconvert_exporter": "python",
   "pygments_lexer": "ipython3",
   "version": "3.11.5"
  }
 },
 "nbformat": 4,
 "nbformat_minor": 5
}
